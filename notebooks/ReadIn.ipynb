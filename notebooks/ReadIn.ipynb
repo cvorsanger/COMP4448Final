{
 "cells": [
  {
   "cell_type": "markdown",
   "metadata": {},
   "source": [
    "<center style=\"font-size:48px;\">Reading In the data</center>"
   ]
  },
  {
   "cell_type": "code",
   "execution_count": 2,
   "metadata": {},
   "outputs": [],
   "source": [
    "import pandas as pd"
   ]
  },
  {
   "cell_type": "code",
   "execution_count": 4,
   "metadata": {},
   "outputs": [
    {
     "data": {
      "text/html": [
       "<div>\n",
       "<style scoped>\n",
       "    .dataframe tbody tr th:only-of-type {\n",
       "        vertical-align: middle;\n",
       "    }\n",
       "\n",
       "    .dataframe tbody tr th {\n",
       "        vertical-align: top;\n",
       "    }\n",
       "\n",
       "    .dataframe thead th {\n",
       "        text-align: right;\n",
       "    }\n",
       "</style>\n",
       "<table border=\"1\" class=\"dataframe\">\n",
       "  <thead>\n",
       "    <tr style=\"text-align: right;\">\n",
       "      <th></th>\n",
       "      <th>Timestamp</th>\n",
       "      <th>id</th>\n",
       "      <th>lat</th>\n",
       "      <th>long</th>\n",
       "    </tr>\n",
       "  </thead>\n",
       "  <tbody>\n",
       "    <tr>\n",
       "      <th>0</th>\n",
       "      <td>2014-01-06 06:28:01</td>\n",
       "      <td>35</td>\n",
       "      <td>36.076225</td>\n",
       "      <td>24.874689</td>\n",
       "    </tr>\n",
       "    <tr>\n",
       "      <th>1</th>\n",
       "      <td>2014-01-06 06:28:01</td>\n",
       "      <td>35</td>\n",
       "      <td>36.076220</td>\n",
       "      <td>24.874596</td>\n",
       "    </tr>\n",
       "    <tr>\n",
       "      <th>2</th>\n",
       "      <td>2014-01-06 06:28:03</td>\n",
       "      <td>35</td>\n",
       "      <td>36.076211</td>\n",
       "      <td>24.874443</td>\n",
       "    </tr>\n",
       "    <tr>\n",
       "      <th>3</th>\n",
       "      <td>2014-01-06 06:28:05</td>\n",
       "      <td>35</td>\n",
       "      <td>36.076217</td>\n",
       "      <td>24.874253</td>\n",
       "    </tr>\n",
       "    <tr>\n",
       "      <th>4</th>\n",
       "      <td>2014-01-06 06:28:06</td>\n",
       "      <td>35</td>\n",
       "      <td>36.076214</td>\n",
       "      <td>24.874167</td>\n",
       "    </tr>\n",
       "  </tbody>\n",
       "</table>\n",
       "</div>"
      ],
      "text/plain": [
       "            Timestamp  id        lat       long\n",
       "0 2014-01-06 06:28:01  35  36.076225  24.874689\n",
       "1 2014-01-06 06:28:01  35  36.076220  24.874596\n",
       "2 2014-01-06 06:28:03  35  36.076211  24.874443\n",
       "3 2014-01-06 06:28:05  35  36.076217  24.874253\n",
       "4 2014-01-06 06:28:06  35  36.076214  24.874167"
      ]
     },
     "execution_count": 4,
     "metadata": {},
     "output_type": "execute_result"
    }
   ],
   "source": [
    "gps = pd.read_csv('../Data/gps.csv', parse_dates=['Timestamp'])\n",
    "gps.head()"
   ]
  },
  {
   "cell_type": "markdown",
   "metadata": {},
   "source": [
    "Dataset contains the tracking information (time, latatitude, longitude) for each car(id)"
   ]
  },
  {
   "cell_type": "code",
   "execution_count": 6,
   "metadata": {},
   "outputs": [
    {
     "data": {
      "text/html": [
       "<div>\n",
       "<style scoped>\n",
       "    .dataframe tbody tr th:only-of-type {\n",
       "        vertical-align: middle;\n",
       "    }\n",
       "\n",
       "    .dataframe tbody tr th {\n",
       "        vertical-align: top;\n",
       "    }\n",
       "\n",
       "    .dataframe thead th {\n",
       "        text-align: right;\n",
       "    }\n",
       "</style>\n",
       "<table border=\"1\" class=\"dataframe\">\n",
       "  <thead>\n",
       "    <tr style=\"text-align: right;\">\n",
       "      <th></th>\n",
       "      <th>timestamp</th>\n",
       "      <th>location</th>\n",
       "      <th>price</th>\n",
       "      <th>FirstName</th>\n",
       "      <th>LastName</th>\n",
       "    </tr>\n",
       "  </thead>\n",
       "  <tbody>\n",
       "    <tr>\n",
       "      <th>0</th>\n",
       "      <td>1/6/2014 7:28</td>\n",
       "      <td>Brew've Been Served</td>\n",
       "      <td>11.34</td>\n",
       "      <td>Edvard</td>\n",
       "      <td>Vann</td>\n",
       "    </tr>\n",
       "    <tr>\n",
       "      <th>1</th>\n",
       "      <td>1/6/2014 7:34</td>\n",
       "      <td>Hallowed Grounds</td>\n",
       "      <td>52.22</td>\n",
       "      <td>Hideki</td>\n",
       "      <td>Cocinaro</td>\n",
       "    </tr>\n",
       "    <tr>\n",
       "      <th>2</th>\n",
       "      <td>1/6/2014 7:35</td>\n",
       "      <td>Brew've Been Served</td>\n",
       "      <td>8.33</td>\n",
       "      <td>Stenig</td>\n",
       "      <td>Fusil</td>\n",
       "    </tr>\n",
       "    <tr>\n",
       "      <th>3</th>\n",
       "      <td>1/6/2014 7:36</td>\n",
       "      <td>Hallowed Grounds</td>\n",
       "      <td>16.72</td>\n",
       "      <td>Birgitta</td>\n",
       "      <td>Frente</td>\n",
       "    </tr>\n",
       "    <tr>\n",
       "      <th>4</th>\n",
       "      <td>1/6/2014 7:37</td>\n",
       "      <td>Brew've Been Served</td>\n",
       "      <td>4.24</td>\n",
       "      <td>Sven</td>\n",
       "      <td>Flecha</td>\n",
       "    </tr>\n",
       "  </tbody>\n",
       "</table>\n",
       "</div>"
      ],
      "text/plain": [
       "       timestamp             location  price FirstName  LastName\n",
       "0  1/6/2014 7:28  Brew've Been Served  11.34    Edvard      Vann\n",
       "1  1/6/2014 7:34     Hallowed Grounds  52.22    Hideki  Cocinaro\n",
       "2  1/6/2014 7:35  Brew've Been Served   8.33    Stenig     Fusil\n",
       "3  1/6/2014 7:36     Hallowed Grounds  16.72  Birgitta    Frente\n",
       "4  1/6/2014 7:37  Brew've Been Served   4.24      Sven    Flecha"
      ]
     },
     "execution_count": 6,
     "metadata": {},
     "output_type": "execute_result"
    }
   ],
   "source": [
    "cc = pd.read_csv('../Data/cc_data.csv', encoding='cp1252')\n",
    "cc.head()"
   ]
  },
  {
   "cell_type": "markdown",
   "metadata": {},
   "source": [
    "Dataset contains purchases for the employees"
   ]
  },
  {
   "cell_type": "code",
   "execution_count": 7,
   "metadata": {},
   "outputs": [
    {
     "data": {
      "text/html": [
       "<div>\n",
       "<style scoped>\n",
       "    .dataframe tbody tr th:only-of-type {\n",
       "        vertical-align: middle;\n",
       "    }\n",
       "\n",
       "    .dataframe tbody tr th {\n",
       "        vertical-align: top;\n",
       "    }\n",
       "\n",
       "    .dataframe thead th {\n",
       "        text-align: right;\n",
       "    }\n",
       "</style>\n",
       "<table border=\"1\" class=\"dataframe\">\n",
       "  <thead>\n",
       "    <tr style=\"text-align: right;\">\n",
       "      <th></th>\n",
       "      <th>LastName</th>\n",
       "      <th>FirstName</th>\n",
       "      <th>CarID</th>\n",
       "      <th>CurrentEmploymentType</th>\n",
       "      <th>CurrentEmploymentTitle</th>\n",
       "    </tr>\n",
       "  </thead>\n",
       "  <tbody>\n",
       "    <tr>\n",
       "      <th>0</th>\n",
       "      <td>Alcazar</td>\n",
       "      <td>Lucas</td>\n",
       "      <td>1.0</td>\n",
       "      <td>Information Technology</td>\n",
       "      <td>IT Helpdesk</td>\n",
       "    </tr>\n",
       "    <tr>\n",
       "      <th>1</th>\n",
       "      <td>Azada</td>\n",
       "      <td>Lars</td>\n",
       "      <td>2.0</td>\n",
       "      <td>Engineering</td>\n",
       "      <td>Engineer</td>\n",
       "    </tr>\n",
       "    <tr>\n",
       "      <th>2</th>\n",
       "      <td>Balas</td>\n",
       "      <td>Felix</td>\n",
       "      <td>3.0</td>\n",
       "      <td>Engineering</td>\n",
       "      <td>Engineer</td>\n",
       "    </tr>\n",
       "    <tr>\n",
       "      <th>3</th>\n",
       "      <td>Barranco</td>\n",
       "      <td>Ingrid</td>\n",
       "      <td>4.0</td>\n",
       "      <td>Executive</td>\n",
       "      <td>SVP/CFO</td>\n",
       "    </tr>\n",
       "    <tr>\n",
       "      <th>4</th>\n",
       "      <td>Baza</td>\n",
       "      <td>Isak</td>\n",
       "      <td>5.0</td>\n",
       "      <td>Information Technology</td>\n",
       "      <td>IT Technician</td>\n",
       "    </tr>\n",
       "  </tbody>\n",
       "</table>\n",
       "</div>"
      ],
      "text/plain": [
       "   LastName FirstName  CarID   CurrentEmploymentType CurrentEmploymentTitle\n",
       "0   Alcazar     Lucas    1.0  Information Technology            IT Helpdesk\n",
       "1     Azada      Lars    2.0             Engineering               Engineer\n",
       "2     Balas     Felix    3.0             Engineering               Engineer\n",
       "3  Barranco    Ingrid    4.0               Executive                SVP/CFO\n",
       "4      Baza      Isak    5.0  Information Technology          IT Technician"
      ]
     },
     "execution_count": 7,
     "metadata": {},
     "output_type": "execute_result"
    }
   ],
   "source": [
    "cars = pd.read_csv('../Data/car-assignments.csv')\n",
    "cars.head()"
   ]
  },
  {
   "cell_type": "markdown",
   "metadata": {},
   "source": [
    "Contains information on each employee susc as name, job, and car they are assigned to."
   ]
  },
  {
   "cell_type": "code",
   "execution_count": 8,
   "metadata": {},
   "outputs": [
    {
     "data": {
      "text/html": [
       "<div>\n",
       "<style scoped>\n",
       "    .dataframe tbody tr th:only-of-type {\n",
       "        vertical-align: middle;\n",
       "    }\n",
       "\n",
       "    .dataframe tbody tr th {\n",
       "        vertical-align: top;\n",
       "    }\n",
       "\n",
       "    .dataframe thead th {\n",
       "        text-align: right;\n",
       "    }\n",
       "</style>\n",
       "<table border=\"1\" class=\"dataframe\">\n",
       "  <thead>\n",
       "    <tr style=\"text-align: right;\">\n",
       "      <th></th>\n",
       "      <th>timestamp</th>\n",
       "      <th>location</th>\n",
       "      <th>price</th>\n",
       "      <th>FirstName</th>\n",
       "      <th>LastName</th>\n",
       "    </tr>\n",
       "  </thead>\n",
       "  <tbody>\n",
       "    <tr>\n",
       "      <th>0</th>\n",
       "      <td>1/6/2014</td>\n",
       "      <td>Brew've Been Served</td>\n",
       "      <td>4.17</td>\n",
       "      <td>Cornelia</td>\n",
       "      <td>Lais</td>\n",
       "    </tr>\n",
       "    <tr>\n",
       "      <th>1</th>\n",
       "      <td>1/6/2014</td>\n",
       "      <td>Brew've Been Served</td>\n",
       "      <td>9.60</td>\n",
       "      <td>Mat</td>\n",
       "      <td>Bramar</td>\n",
       "    </tr>\n",
       "    <tr>\n",
       "      <th>2</th>\n",
       "      <td>1/6/2014</td>\n",
       "      <td>Hallowed Grounds</td>\n",
       "      <td>16.53</td>\n",
       "      <td>Emile</td>\n",
       "      <td>Arpa</td>\n",
       "    </tr>\n",
       "    <tr>\n",
       "      <th>3</th>\n",
       "      <td>1/6/2014</td>\n",
       "      <td>Coffee Shack</td>\n",
       "      <td>11.51</td>\n",
       "      <td>Varro</td>\n",
       "      <td>Awelon</td>\n",
       "    </tr>\n",
       "    <tr>\n",
       "      <th>4</th>\n",
       "      <td>1/6/2014</td>\n",
       "      <td>Hallowed Grounds</td>\n",
       "      <td>12.93</td>\n",
       "      <td>Rachel</td>\n",
       "      <td>Pantanal</td>\n",
       "    </tr>\n",
       "  </tbody>\n",
       "</table>\n",
       "</div>"
      ],
      "text/plain": [
       "  timestamp             location  price FirstName  LastName\n",
       "0  1/6/2014  Brew've Been Served   4.17  Cornelia      Lais\n",
       "1  1/6/2014  Brew've Been Served   9.60       Mat    Bramar\n",
       "2  1/6/2014     Hallowed Grounds  16.53     Emile      Arpa\n",
       "3  1/6/2014         Coffee Shack  11.51     Varro    Awelon\n",
       "4  1/6/2014     Hallowed Grounds  12.93    Rachel  Pantanal"
      ]
     },
     "execution_count": 8,
     "metadata": {},
     "output_type": "execute_result"
    }
   ],
   "source": [
    "loyalty = pd.read_csv('../Data/loyalty_data.csv', encoding='cp1252')\n",
    "loyalty.head()"
   ]
  },
  {
   "cell_type": "markdown",
   "metadata": {},
   "source": [
    "Dataset contains purchases for the employees. They differ from above in that they are loyalty card purchases."
   ]
  }
 ],
 "metadata": {
  "interpreter": {
   "hash": "546df25a8f8a16f741c5e49c2eb8ff7341a0f3e34194e2ada3ea44d6dec403d5"
  },
  "kernelspec": {
   "display_name": "Python 3.9.12 ('COMP4448')",
   "language": "python",
   "name": "python3"
  },
  "language_info": {
   "codemirror_mode": {
    "name": "ipython",
    "version": 3
   },
   "file_extension": ".py",
   "mimetype": "text/x-python",
   "name": "python",
   "nbconvert_exporter": "python",
   "pygments_lexer": "ipython3",
   "version": "3.9.12"
  },
  "orig_nbformat": 4
 },
 "nbformat": 4,
 "nbformat_minor": 2
}
