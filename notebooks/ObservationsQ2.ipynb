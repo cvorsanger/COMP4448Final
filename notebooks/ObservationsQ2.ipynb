{
 "cells": [
  {
   "cell_type": "markdown",
   "metadata": {},
   "source": [
    "\n",
    "<center style=\"font-size:48px;\">Question 2 Observations</center>\n",
    "<br>\n",
    "\n",
    "Identify up to twelve unusual events or patterns that you see in the data. If you identify more than twelve patterns during your analysis, focus your answer on the patterns you consider to be most important for further investigation to help find the missing staff members. For each pattern or event you identify, describe\n",
    "\n",
    "1. What is the pattern or event you observe?\n",
    "1. Who is involved?\n",
    "1. What locations are involved?\n",
    "1. When does the pattern or event take place?\n",
    "1. Why is this pattern or event significant?\n",
    "1. What is your level of confidence about this pattern or event? Why?\n"
   ]
  },
  {
   "cell_type": "markdown",
   "metadata": {},
   "source": [
    "# Importing Libraries and Data"
   ]
  },
  {
   "cell_type": "markdown",
   "metadata": {},
   "source": [
    "## Libraries"
   ]
  },
  {
   "cell_type": "code",
   "execution_count": null,
   "metadata": {},
   "outputs": [],
   "source": [
    "# Data Science\n",
    "import pandas as pd"
   ]
  },
  {
   "cell_type": "markdown",
   "metadata": {},
   "source": [
    "## Data"
   ]
  },
  {
   "cell_type": "code",
   "execution_count": null,
   "metadata": {},
   "outputs": [],
   "source": [
    "# Location\n",
    "locations1 = pd.read_csv('../CheckPoints/Locations1_Clean.csv', parse_dates=['Timestamp'], index_col=0)\n",
    "locations2 = pd.read_csv('../CheckPoints/Locations2_Clean.csv', parse_dates=['Timestamp'], index_col=0)\n",
    "locations = pd.concat([locations1, locations2])\n",
    "# Purchase Data\n",
    "buys = pd.read_csv('../CheckPoints/Buys_Clean.csv', parse_dates=['timestamp'], index_col=0)"
   ]
  },
  {
   "cell_type": "markdown",
   "metadata": {},
   "source": [
    "- 1 Lucas Alcazar\thad a very high charge at the Auto Shop ($1,000)!    \n",
    "- 2 Daily Dealz\t2.01\tLucas\tAlcazar odd place odd time not on map\n",
    "- 3 Hippokampos\t39.97\tWillem\tVasco-Pais 6 hour     Odd time  not within typical mean +std\n",
    "- 4 Varro\tAwelon missed his dailey Coffee Shack on the 10th\n",
    "- 5 Frank's Fuel\t52.66\tFelix\tBalas Engineer are not usually over there\n",
    "- 6 Ingrid\tBarranco\tHippokampos\t11\t3\t3\t Had only been going 1 time a day. Why 3 this day\n",
    "- 7 2014-01-10 07:59:00\tAbila Airport\t4039.36\tClaudio\tHawelon Only time he went there alson only friday pickup\n",
    "- 8 2014-01-11 20:30:00\tKalami Kafenion\t46.78\tHideki\tCocinaro\tFalse\t11\t 2nd time that day not frequently visited odd time\n",
    "- 9 2014-01-18 12:03:00\tCho stus Hotel\t600.00\tSten\tSanjorge Jr.  High Charge. Only Charge on the Weekend at Hotel\n",
    "- 10 Bean There Done That\t19.82\tLars\tAzada\tTrue\t15 Missed his Daily run\n",
    "- 11 2014-01-07 07:33:00\tBrew've Been Served\t7.09\tIsia\tVann TYpically does in morning with Edvard\n",
    "- 12 90\t2014-01-07 13:33:00\t     Katerina’s Café\t22.27\tNils\tCalixto\tTrue\t7\t13\t33\t Second time visting in the day and at a odd time"
   ]
  },
  {
   "cell_type": "markdown",
   "metadata": {},
   "source": [
    "<div>\n",
    "    <span  style=\"width:600px;display:inline-block;text-align:left\">\n",
    "        <a href=\"./ObservationsQ1.ipynb\">&#60;&#60;Observations Question 1</a>\n",
    "    </span>\n",
    "    <span style=\"width:600px;display:inline-block;text-align:right\">\n",
    "        <a href=\"./ObservationsQ3.ipynb\">Observations Question 3&#62;&#62;</a>\n",
    "    </span>\n",
    "</div>\n",
    "<div>\n",
    "    <center>\n",
    "        <span style=\"width:200px;display:inline-block;text-align:center\">\n",
    "            <a href=\"./Master.ipynb\">Master Notebook</a>\n",
    "        </span>\n",
    "        <span style=\"width:200px;display:inline-block;text-align:center\">\n",
    "            <a href=\"../README.md\">Table of Contents</a>\n",
    "        </span>\n",
    "    </center>\n",
    "</div>"
   ]
  }
 ],
 "metadata": {
  "kernelspec": {
   "display_name": "Python 3 (ipykernel)",
   "language": "python",
   "name": "python3"
  },
  "language_info": {
   "codemirror_mode": {
    "name": "ipython",
    "version": 3
   },
   "file_extension": ".py",
   "mimetype": "text/x-python",
   "name": "python",
   "nbconvert_exporter": "python",
   "pygments_lexer": "ipython3",
   "version": "3.8.13"
  }
 },
 "nbformat": 4,
 "nbformat_minor": 4
}
