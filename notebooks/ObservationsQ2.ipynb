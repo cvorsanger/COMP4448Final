{
 "cells": [
  {
   "cell_type": "markdown",
   "metadata": {},
   "source": [
    "\n",
    "<center style=\"font-size:48px;\">Question 2 Observations</center>\n",
    "<br>\n",
    "\n",
    "Identify up to twelve unusual events or patterns that you see in the data. If you identify more than twelve patterns during your analysis, focus your answer on the patterns you consider to be most important for further investigation to help find the missing staff members. For each pattern or event you identify, describe\n",
    "\n",
    "1. What is the pattern or event you observe?\n",
    "1. Who is involved?\n",
    "1. What locations are involved?\n",
    "1. When does the pattern or event take place?\n",
    "1. Why is this pattern or event significant?\n",
    "1. What is your level of confidence about this pattern or event? Why?\n"
   ]
  },
  {
   "cell_type": "markdown",
   "metadata": {},
   "source": [
    "# Importing Libraries and Data"
   ]
  },
  {
   "cell_type": "markdown",
   "metadata": {},
   "source": [
    "## Libraries"
   ]
  },
  {
   "cell_type": "code",
   "execution_count": null,
   "metadata": {},
   "outputs": [],
   "source": [
    "# Data Science\n",
    "import numpy as np\n",
    "import pandas as pd\n",
    "\n",
    "# Geospatial\n",
    "import geopandas as gpd\n",
    "\n",
    "# Plotting\n",
    "import folium\n",
    "from folium.plugins import HeatMap, MousePosition\n",
    "import plotly.express as pex"
   ]
  },
  {
   "cell_type": "markdown",
   "metadata": {},
   "source": [
    "## Data"
   ]
  },
  {
   "cell_type": "code",
   "execution_count": null,
   "metadata": {},
   "outputs": [],
   "source": [
    "# Location\n",
    "locations = pd.read_csv('../CheckPoints/Locations_Clean.csv', parse_dates=['Timestamp'], index_col=0)\n",
    "# Purchase Data\n",
    "buys = pd.read_csv('../CheckPoints/Buys_Clean.csv', parse_dates=['timestamp'], index_col=0)"
   ]
  },
  {
   "cell_type": "markdown",
   "metadata": {},
   "source": [
    "# Answers"
   ]
  },
  {
   "cell_type": "markdown",
   "metadata": {},
   "source": [
    "## Isia Vann - Morning of the the 7th\n",
    "\n",
    "Our model for the locations identified as Isia Vann's loation in the morning on the 7th as odd. Lets look at here purchases in the morning first."
   ]
  },
  {
   "cell_type": "code",
   "execution_count": null,
   "metadata": {},
   "outputs": [],
   "source": [
    "buys[(buys.FirstName == 'Isia') & (buys.hour <= 9)].sort_values('day')"
   ]
  },
  {
   "cell_type": "markdown",
   "metadata": {},
   "source": [
    "All coffee places on weekdays! The day we are looking at (the 7th) stands out as a different coffee place.\n",
    "\n",
    "There is also another person with the last name Vann. is there a relationship between Brew've Been Served and these two individuals."
   ]
  },
  {
   "cell_type": "code",
   "execution_count": null,
   "metadata": {},
   "outputs": [],
   "source": [
    "buys[(buys.LastName == 'Vann') & (buys.location == \"Brew've Been Served\")].sort_values('day')"
   ]
  },
  {
   "cell_type": "markdown",
   "metadata": {},
   "source": [
    "Looks like they went to the coffee place before work every weekday except for the 7th. Authorities should investigate this behavior as it is abnormal for her to go to a different coffee place then Brew've Been Served and she was flagged earlier in the morning as at odd location."
   ]
  },
  {
   "cell_type": "markdown",
   "metadata": {},
   "source": [
    "## Sten Sanjorge Jr.- High Purchase on the 18th\n",
    "\n",
    "Our model identified a purchase by Sten Sanjorge Jr. at the Chostus Hotel as odd. Just by looking into at this hotel we can see why."
   ]
  },
  {
   "cell_type": "code",
   "execution_count": null,
   "metadata": {},
   "outputs": [],
   "source": [
    "buys[buys.location == \"Chostus Hotel\"].sort_values('price')"
   ]
  },
  {
   "cell_type": "markdown",
   "metadata": {},
   "source": [
    "Looking at the rest if the Chostus Hotel purchases this is indeed interesting. The purchase is much higher price then the others here. It is also they only weekend purchase and the while Isande Borrasca ans Brand Tempstad at multiple charges here this was Sten's only charge. This could just be the President of the company treating some of his employees/friends to a good time but it does stand out. With it having three different eleements of interest I have a high confidence that this should be further looked into."
   ]
  },
  {
   "cell_type": "markdown",
   "metadata": {},
   "source": [
    "## Claudio Hawelon - Went to the airport on the 10th\n",
    "\n",
    "This was not one originally identified. However, it is interesting. Seeing that there are purchases at Abila airport as odd we can look at other purchases here to find a pattern"
   ]
  },
  {
   "cell_type": "code",
   "execution_count": null,
   "metadata": {},
   "outputs": [],
   "source": [
    "buys[buys.location == \"Abila Airport\"].sort_values('day')"
   ]
  },
  {
   "cell_type": "markdown",
   "metadata": {},
   "source": [
    "Odd that Claudio only shows once."
   ]
  },
  {
   "cell_type": "code",
   "execution_count": null,
   "metadata": {},
   "outputs": [],
   "source": [
    "buys[buys.location == \"Abila Airport\"].groupby(['LastName', 'FirstName'])[['timestamp']].count()"
   ]
  },
  {
   "cell_type": "markdown",
   "metadata": {},
   "source": [
    "It also interesting the day he went (10th)."
   ]
  },
  {
   "cell_type": "code",
   "execution_count": null,
   "metadata": {},
   "outputs": [],
   "source": [
    "buys[buys.location == \"Abila Airport\"].groupby('day')[['timestamp']].count()"
   ]
  },
  {
   "cell_type": "markdown",
   "metadata": {},
   "source": [
    "While other truck drivers went to the airport multiple times, Claudio only went the once. Additionally, he had the only Friday trip across the two weeks. It looks like he was onlt two purchases not to use his loyalty card as well. He also went earlier then the truck drivers typically go. I am highly confident that this should be investigated further. While he could just be filling in and helping somebody out there are too many suspicious factors in this trip not to ignore."
   ]
  },
  {
   "cell_type": "markdown",
   "metadata": {},
   "source": [
    "## Lucas Alcazar - High Purchase on the 13th\n",
    "\n",
    "Lucas Alcazar's purchase at Frydos Autosupply n' More was flagged as well. We can also see that this is a very hig purchase amount form the purchase distribution chart."
   ]
  },
  {
   "cell_type": "markdown",
   "metadata": {},
   "source": [
    "<img src='../images/EDA/Credit_Card.jpg' >"
   ]
  },
  {
   "cell_type": "markdown",
   "metadata": {},
   "source": [
    "His is the right-most purchase, over $10,000! Maybe it is a function of his job."
   ]
  },
  {
   "cell_type": "code",
   "execution_count": null,
   "metadata": {},
   "outputs": [],
   "source": [
    "buys[buys.location == \"Frydos Autosupply n' More\"].groupby('CurrentEmploymentType', as_index=False)['price'].agg(['mean', 'count']).sort_values('count')"
   ]
  },
  {
   "cell_type": "code",
   "execution_count": null,
   "metadata": {},
   "outputs": [],
   "source": [
    "buys[(buys.location == \"Frydos Autosupply n' More\") & (buys.CurrentEmploymentType == \"Information Technology\")]"
   ]
  },
  {
   "cell_type": "markdown",
   "metadata": {},
   "source": [
    "Seems like he is the had a much higher purchase then anyone with his job type as well. I am 50-50 on this suspicion. While it is very odd and high it simple could have been a misentry on the purchase amout and maybe it could have been $100. However, there is nothing to indicate that this is truely a false data point."
   ]
  },
  {
   "cell_type": "markdown",
   "metadata": {},
   "source": [
    "##  Ingrid\tBarranco - Multiple Visits to Hippokampos on the 11th\n",
    "\n",
    "The next purchase was not immediatly flag by our model. However, playing around and look at frequent stops for Executives I was able to find Ingrid Barrno behaving odd. We can see he most frequents Hippokampos."
   ]
  },
  {
   "cell_type": "code",
   "execution_count": null,
   "metadata": {},
   "outputs": [],
   "source": [
    "buys[buys.FirstName == \"Ingrid\"].groupby('location', as_index=False)['timestamp'].count()"
   ]
  },
  {
   "cell_type": "markdown",
   "metadata": {},
   "source": [
    "In itself that is not odd but now looking at all 12 of his purchases here:"
   ]
  },
  {
   "cell_type": "code",
   "execution_count": null,
   "metadata": {},
   "outputs": [],
   "source": [
    "buys[(buys.FirstName == \"Ingrid\") & (buys.location == \"Hippokampos\")].sort_values('day')"
   ]
  },
  {
   "cell_type": "markdown",
   "metadata": {},
   "source": [
    "It is odd on the 11th that he made three purchases here. On othe days he only visited there once. I am moderatly confident taht this should be investogated further. If he had gone only twice there would be more doubt. Maybe he just had a massive hunger for this place that day, maybe it is a duplicate transaction that I didn't detect earlier. But three visits, is very suspicious. Was he planning with somebody that works here?"
   ]
  },
  {
   "cell_type": "markdown",
   "metadata": {},
   "source": [
    "## Hideki Cocinaro - Mutiple Purchases on the 11th\n",
    "\n",
    "Not initially evident, but a purchase by Hideki Cocinaro appears odd. Inititally looking at difference between loyalty and non loyalty purchases something started to popup."
   ]
  },
  {
   "cell_type": "code",
   "execution_count": null,
   "metadata": {},
   "outputs": [],
   "source": [
    "buys[buys.FirstName == \"Hideki\"].groupby(['location', 'Is_Loyalty'], as_index=False)['timestamp'].count()"
   ]
  },
  {
   "cell_type": "markdown",
   "metadata": {},
   "source": [
    "For Guy's Gyros, Hallowed Grounds, and Kalami Kafenion he typically uses a loyalty card. However, each location had only one non-loylaty card purchase. Further looking at Kalami Kafenion shows something odd indeed."
   ]
  },
  {
   "cell_type": "code",
   "execution_count": null,
   "metadata": {},
   "outputs": [],
   "source": [
    "buys[(buys.FirstName == \"Hideki\") & (buys.location == \"Kalami Kafenion\")].sort_values('day')"
   ]
  },
  {
   "cell_type": "markdown",
   "metadata": {},
   "source": [
    "He doesn't frequent Kalami Kafenion however on the 11th he went ther twice. One of these was the purchase where he did not use the loyalty card. Whats more the purchase was higher then normal and at a odd time; six hours later then he normally visited there. I am fairly confident of this observations. The high price could be just due to him not using a loyalty card but the fact that he visited Kalami Kafenion twice on the 11th including once that was at an abnormal time is suspicious. "
   ]
  },
  {
   "cell_type": "markdown",
   "metadata": {},
   "source": [
    "## Felix Balas - At Frank's Fuel on the 18th\n",
    "\n",
    "Felix Balas was one of the two peopler to make a purchase at Frank's Fuel."
   ]
  },
  {
   "cell_type": "code",
   "execution_count": null,
   "metadata": {},
   "outputs": [],
   "source": [
    "buys[buys.location == \"Frank's Fuel\"]"
   ]
  },
  {
   "cell_type": "markdown",
   "metadata": {},
   "source": [
    "Loreto Bodrogi is less suspicious because as Security roams around much of Abila during the workday. However, engineers very rarely go to that side of the town. You can see this in a heatmap."
   ]
  },
  {
   "cell_type": "code",
   "execution_count": null,
   "metadata": {},
   "outputs": [],
   "source": [
    "engineers = locations[(locations.CurrentEmploymentTitle == 'Engineer')]\n",
    "m = folium.Map(location=[36.07, 24.87], zoom_start=14)\n",
    "kronos = gpd.read_file('../Geospatial/Kronos_Island.shp')\n",
    "folium.features.GeoJson(kronos,  style_function= lambda feature: {'fillColor' : 'black'}).add_to(m)\n",
    "abila = gpd.read_file('../Geospatial/Abila.shp')\n",
    "folium.features.GeoJson(abila, style_function= lambda feature: {'color' : 'white'}).add_to(m)\n",
    "HeatMap(engineers[['lat', 'long']], radius =20).add_to(m)\n",
    "fmtr = \"function(num) {return L.Util.formatNum(num, 3) + ' º ';};\"\n",
    "MousePosition(position='topleft', separator=' | ', prefix=\"Mouse:\",\n",
    "              lat_formatter=fmtr, lng_formatter=fmtr).add_to(m)\n",
    "folium.Marker(location= [36.074, 24.844], popup=\"Frank's Fuel\").add_to(m)\n",
    "m"
   ]
  },
  {
   "cell_type": "markdown",
   "metadata": {},
   "source": [
    "It is noticable that this was on the weekend. However, none of the leaisure place are over there, they are more towards the center and coastal side of the town. He could just really needed gas for his car and that was the closest spot to hts house (most likely the red in the north). Still very odd behavior and I am moderately confident this could be something more."
   ]
  },
  {
   "cell_type": "markdown",
   "metadata": {},
   "source": [
    "## Lucas Alcazar - Odd Purchase on the 13th\n",
    "\n",
    "Lucas Alcazar pops up again as the only person to make a purchase at Daily Dealz."
   ]
  },
  {
   "cell_type": "code",
   "execution_count": null,
   "metadata": {},
   "outputs": [],
   "source": [
    "buys[buys.location == \"Daily Dealz\"]"
   ]
  },
  {
   "cell_type": "markdown",
   "metadata": {},
   "source": [
    "Not only that but at 6 it is a little odd time for a purchase from him."
   ]
  },
  {
   "cell_type": "code",
   "execution_count": null,
   "metadata": {},
   "outputs": [],
   "source": [
    "buys[buys.LastName == 'Alcazar'].groupby('hour', as_index=False)['timestamp'].count()"
   ]
  },
  {
   "cell_type": "markdown",
   "metadata": {},
   "source": [
    "While this is definatly odd I am not overly confident that something will come out of investigating this further. Daily Dealz could just be a place to get cheap everyday items. The fact that the purchase was at siz is not too worisom as he did have an earlier purchase as well. This behavior to keep in mind but more promising leads should be looked at first."
   ]
  },
  {
   "cell_type": "markdown",
   "metadata": {},
   "source": [
    "## Nils Calixto - Odd Purchase on the 7th \n",
    "\n",
    "We can also see what are the most frequent spots visited for an indivual and see if we can establish a pattern. This led to a discovery about Nils Calixto"
   ]
  },
  {
   "cell_type": "code",
   "execution_count": null,
   "metadata": {},
   "outputs": [],
   "source": [
    "buys[(buys.FirstName == 'Nils') & (buys.location==\"Katerina’s Café\")].sort_values('day')"
   ]
  },
  {
   "cell_type": "markdown",
   "metadata": {},
   "source": [
    "On the 7th Nils took two trips to Katerina's Cafe. It did do this one other time on the 13th so maybe he just really loves this spot. The most currious thing though is that this purchase was at 1:30 PM. All of his other purchases here were between 7 PM and 8:30 PM. This huge discrpency in time is a little concerning. However, I am not overly optimistic on this one. This is a place he likes to go to. Maybe he just wanted to try their lunch menu instead of dinner."
   ]
  },
  {
   "cell_type": "markdown",
   "metadata": {},
   "source": [
    "## Varro Awelon - Missed Daily Behavior in the 10th\n",
    "\n",
    "Looking at frequented places by people. You can see that Varro Awelon went to Coffee Shack 9 out of 10 workdays.\n"
   ]
  },
  {
   "cell_type": "code",
   "execution_count": null,
   "metadata": {},
   "outputs": [],
   "source": [
    "buys[(buys.FirstName == 'Varro') & (buys.location == 'Coffee Shack')].sort_values('day')"
   ]
  },
  {
   "cell_type": "markdown",
   "metadata": {},
   "source": [
    "Maybe he went somewhere else."
   ]
  },
  {
   "cell_type": "code",
   "execution_count": null,
   "metadata": {},
   "outputs": [],
   "source": [
    "buys[(buys.FirstName == 'Varro') & (buys.day == 10)]"
   ]
  },
  {
   "cell_type": "markdown",
   "metadata": {},
   "source": [
    "Mhmm doesn't seem like he did. It is odd that he didn't visit here on the 10th. He could have just been running late that day however. Other identified leads should be investigated first."
   ]
  },
  {
   "cell_type": "markdown",
   "metadata": {},
   "source": [
    "## Lars Azada - Missed Dailey Coffee Stop on the 15th\n",
    "\n",
    "In addition to Varro, Lars Azada also missed his daily coffee run before work (this time on the 15th).\n"
   ]
  },
  {
   "cell_type": "code",
   "execution_count": null,
   "metadata": {},
   "outputs": [],
   "source": [
    "buys[(buys.FirstName == 'Lars') & (buys.location == 'Bean There Done That') ].sort_values('day')"
   ]
  },
  {
   "cell_type": "markdown",
   "metadata": {},
   "source": [
    "See if he maybe went to another coffee shop."
   ]
  },
  {
   "cell_type": "code",
   "execution_count": null,
   "metadata": {},
   "outputs": [],
   "source": [
    "buys[(buys.FirstName == 'Lars') & (buys.day == 15)]"
   ]
  },
  {
   "cell_type": "markdown",
   "metadata": {},
   "source": [
    "Doesn't seem like he did. I view this similarily to the above finding. He could have just been running late that day however. Other identified leads should be investigated first."
   ]
  },
  {
   "cell_type": "markdown",
   "metadata": {},
   "source": [
    "## Willem Vasco-Pais - Odd Time of Purchase on the 10th\n",
    "\n",
    "Willem Vasco-Pais appears to go to a common place twice in a day including at an odd time.\n"
   ]
  },
  {
   "cell_type": "code",
   "execution_count": null,
   "metadata": {},
   "outputs": [],
   "source": [
    "buys[(buys.LastName =='Vasco-Pais')].sort_values(['location', 'day'])"
   ]
  },
  {
   "cell_type": "markdown",
   "metadata": {},
   "source": [
    "He went to Hippokampos on the 10th! He also went very earlier. Using a quick calcuation to estimate if a data point is an outlier we can take 2.5 times the standard deviation from the median."
   ]
  },
  {
   "cell_type": "code",
   "execution_count": null,
   "metadata": {},
   "outputs": [],
   "source": [
    "dev = buys[(buys.LastName =='Vasco-Pais') & (buys.location == 'Hippokampos')]['hour'].std()\n",
    "med = buys[(buys.LastName =='Vasco-Pais') & (buys.location == 'Hippokampos')]['hour'].median()\n",
    "\n",
    "print(round(med - 2.5*dev, 2), \"hour\")"
   ]
  },
  {
   "cell_type": "markdown",
   "metadata": {},
   "source": [
    "Looks like he went an hour earlier then we would expect him to. My confidence on this ne resulting into something is low. He could have wanted to try the lunch menu instead of always just going during dinner."
   ]
  },
  {
   "cell_type": "markdown",
   "metadata": {},
   "source": [
    "<div>\n",
    "    <span  style=\"width:600px;display:inline-block;text-align:left\">\n",
    "        <a href=\"./ObservationsQ1.ipynb\">&#60;&#60;Observations Question 1</a>\n",
    "    </span>\n",
    "    <span style=\"width:600px;display:inline-block;text-align:right\">\n",
    "        <a href=\"./ObservationsQ3.ipynb\">Observations Question 3&#62;&#62;</a>\n",
    "    </span>\n",
    "</div>\n",
    "<div>\n",
    "    <center>\n",
    "        <span style=\"width:200px;display:inline-block;text-align:center\">\n",
    "            <a href=\"./Master.ipynb\">Master Notebook</a>\n",
    "        </span>\n",
    "        <span style=\"width:200px;display:inline-block;text-align:center\">\n",
    "            <a href=\"../README.md\">Table of Contents</a>\n",
    "        </span>\n",
    "    </center>\n",
    "</div>"
   ]
  }
 ],
 "metadata": {
  "interpreter": {
   "hash": "1ef96b760e1a48c5c4fda914d5f95fa3b86b312c8ce241282acda50a269567b2"
  },
  "kernelspec": {
   "display_name": "Python 3 (ipykernel)",
   "language": "python",
   "name": "python3"
  },
  "language_info": {
   "codemirror_mode": {
    "name": "ipython",
    "version": 3
   },
   "file_extension": ".py",
   "mimetype": "text/x-python",
   "name": "python",
   "nbconvert_exporter": "python",
   "pygments_lexer": "ipython3",
   "version": "3.8.13"
  }
 },
 "nbformat": 4,
 "nbformat_minor": 4
}
