{
 "cells": [
  {
   "cell_type": "markdown",
   "metadata": {},
   "source": [
    "<center style=\"font-size:48px;\">Further Clean Up</center>"
   ]
  },
  {
   "cell_type": "code",
   "execution_count": null,
   "metadata": {},
   "outputs": [],
   "source": [
    "import pandas as pd\n",
    "import numpy as np\n",
    "import folium\n",
    "import geopandas as gpd\n",
    "from folium.plugins import HeatMap, MousePosition\n",
    "import warnings\n",
    "warnings.filterwarnings('ignore')\n",
    "\n",
    "cars = pd.read_csv('../Data/car-assignments.csv')\n",
    "cc = pd.read_csv('../Data/cc_data.csv', encoding='cp1252', parse_dates=['timestamp'])\n",
    "gps = pd.read_csv('../Data/gps.csv', parse_dates=['Timestamp'])\n",
    "loyalty = pd.read_csv('../Data/loyalty_data.csv', encoding='cp1252', parse_dates=['timestamp'])"
   ]
  },
  {
   "cell_type": "code",
   "execution_count": null,
   "metadata": {},
   "outputs": [],
   "source": [
    "locations = gps.merge(cars, left_on='id', right_on='CarID', how='left')\n",
    "locations.drop(columns='CarID', inplace =True)\n",
    "timeUnit = ['day', 'hour', 'minute', 'second']\n",
    "for unit in timeUnit:\n",
    "    if unit == 'day':\n",
    "        locations[unit] = locations['Timestamp'].apply(lambda x: x.day)\n",
    "    if unit == 'hour':\n",
    "        locations[unit] = locations['Timestamp'].apply(lambda x: x.hour)\n",
    "    if unit == 'minute':\n",
    "        locations[unit] = locations['Timestamp'].apply(lambda x: x.minute)\n",
    "    if unit == 'second':\n",
    "        locations[unit] = locations['Timestamp'].apply(lambda x: x.second)\n",
    "locations.head()"
   ]
  },
  {
   "cell_type": "code",
   "execution_count": null,
   "metadata": {},
   "outputs": [],
   "source": [
    "m = folium.Map(location=[36.07, 24.87], zoom_start=14)\n",
    "kronos = gpd.read_file('../Geospatial/Kronos_Island.shp')\n",
    "folium.features.GeoJson(kronos,  style_function= lambda feature: {'fillColor' : 'black'}, control=False).add_to(m)\n",
    "abila = gpd.read_file('../Geospatial/Abila.shp')\n",
    "folium.features.GeoJson(abila, style_function= lambda feature: {'color' : 'white'}, control=False).add_to(m)\n",
    "\n",
    "for job in locations.CurrentEmploymentType.unique():\n",
    "    if job is not np.nan:\n",
    "        if job == 'Facilities':\n",
    "            temp = locations[(locations.CurrentEmploymentType == job) | (locations.LastName.isnull())]\n",
    "            g = folium.FeatureGroup(name = job)\n",
    "        else:\n",
    "            temp = locations[locations.CurrentEmploymentType == job]\n",
    "            g = folium.FeatureGroup(name = job, show=False)\n",
    "        m.add_child(g)\n",
    "        HeatMap(temp[['lat', 'long']], radius =20).add_to(g)\n",
    "fmtr = \"function(num) {return L.Util.formatNum(num, 3) + ' º ';};\"\n",
    "MousePosition(position='topleft', separator=' | ', prefix=\"Mouse:\",\n",
    "              lat_formatter=fmtr, lng_formatter=fmtr).add_to(m)\n",
    "folium.LayerControl(collapsed=False).add_to(m)\n",
    "m"
   ]
  },
  {
   "cell_type": "code",
   "execution_count": null,
   "metadata": {},
   "outputs": [],
   "source": [
    "import numpy as np\n",
    "from folium.plugins import HeatMapWithTime\n",
    "# Where are cars located over the entire dataset\n",
    "for job in locations.CurrentEmploymentType.unique():\n",
    "    if job is not np.nan:\n",
    "        m = folium.Map(location=[36.07, 24.87], zoom_start=14)\n",
    "        kronos = gpd.read_file('../Geospatial/Kronos_Island.shp')\n",
    "        folium.features.GeoJson(kronos,  style_function= lambda feature: {'fillColor' : 'black'}, control=False).add_to(m)\n",
    "        abila = gpd.read_file('../Geospatial/Abila.shp')\n",
    "        folium.features.GeoJson(abila, style_function= lambda feature: {'color' : 'white'}, control=False).add_to(m)\n",
    "        weights = []\n",
    "        index = []\n",
    "        if job == 'Facilities':\n",
    "            temp = locations[(locations.CurrentEmploymentType == job) | (locations.LastName.isnull())]\n",
    "            for hour in sorted(temp.hour.unique()):\n",
    "                weights.append(temp[temp.hour == hour][['lat', 'long']].groupby(['lat', 'long']).count().reset_index().values.tolist())\n",
    "                index.append(pd.to_datetime(hour, format='%H').strftime('%I %p'))\n",
    "                [[ x.append(0.1) for x in y] for y in weights]\n",
    "        else:\n",
    "            temp = locations[locations.CurrentEmploymentType == job]\n",
    "            for hour in sorted(temp.hour.unique()):\n",
    "                weights.append(temp[temp.hour == hour][['lat', 'long']].groupby(['lat', 'long']).count().reset_index().values.tolist())\n",
    "                index.append(pd.to_datetime(hour, format='%H').strftime('%I %p'))\n",
    "                [[ x.append(0.1) for x in y] for y in weights]\n",
    "        HeatMapWithTime(weights, index = index).add_to(m)\n",
    "        fmtr = \"function(num) {return L.Util.formatNum(num, 3) + ' º ';};\"\n",
    "        MousePosition(position='topleft', separator=' | ', prefix=\"Mouse:\",\n",
    "                    lat_formatter=fmtr, lng_formatter=fmtr).add_to(m)\n",
    "        print(job)\n",
    "        display(m)"
   ]
  },
  {
   "cell_type": "code",
   "execution_count": null,
   "metadata": {},
   "outputs": [],
   "source": [
    "cc['Is_Loyalty'] = False\n",
    "loyalty['Is_Loyalty'] = True\n",
    "buys = pd.concat([cc, loyalty])\n",
    "buys = buys.merge(cars, left_on=['LastName', 'FirstName'], right_on=['LastName', 'FirstName'])\n",
    "timeUnit = ['day', 'hour', 'minute', 'second']\n",
    "for unit in timeUnit:\n",
    "    if unit == 'day':\n",
    "        buys[unit] = buys['timestamp'].apply(lambda x: x.day)\n",
    "    if unit == 'hour':\n",
    "        buys[unit] = buys['timestamp'].apply(lambda x: x.hour)\n",
    "    if unit == 'minute':\n",
    "        buys[unit] = buys['timestamp'].apply(lambda x: x.minute)\n",
    "    if unit == 'second':\n",
    "        buys[unit] = buys['timestamp'].apply(lambda x: x.second)\n",
    "\n",
    "buys"
   ]
  },
  {
   "cell_type": "code",
   "execution_count": null,
   "metadata": {},
   "outputs": [],
   "source": [
    "# Lets see if there are any locations that are only in one dataframe\n",
    "uniqueCC = set(buys[~buys.Is_Loyalty]['location']).difference(set(buys[buys.Is_Loyalty]['location']))\n",
    "print('Unique locations in the credit card dataframe : {}'.format(uniqueCC))\n",
    "uniqueLoyalty = set(buys[buys.Is_Loyalty]['location']).difference(set(buys[~buys.Is_Loyalty]['location']))\n",
    "print('Unique locations in the loyalty dataframe : {}'.format(uniqueLoyalty))"
   ]
  },
  {
   "cell_type": "code",
   "execution_count": null,
   "metadata": {},
   "outputs": [],
   "source": [
    "buys[buys.FirstName == 'Sten']"
   ]
  },
  {
   "cell_type": "code",
   "execution_count": null,
   "metadata": {},
   "outputs": [],
   "source": [
    "buys[['CarID', 'location', 'day']].duplicated().sum()"
   ]
  },
  {
   "cell_type": "code",
   "execution_count": null,
   "metadata": {},
   "outputs": [],
   "source": [
    "buys[buys[['CarID', 'location', 'day']].duplicated(keep = False)][buys.FirstName == 'Willem'].sort_values(['location', 'day'])"
   ]
  },
  {
   "cell_type": "code",
   "execution_count": null,
   "metadata": {},
   "outputs": [],
   "source": [
    "s = buys.sort_values('Is_Loyalty')\n",
    "onlyLoyalty = len(s[s[['CarID', 'location', 'day', 'price']].duplicated(keep='first')][buys.Is_Loyalty])/len(buys[buys.Is_Loyalty]) * 100\n",
    "onlyCC = len(buys[buys[['CarID', 'location', 'day', 'price']].duplicated(keep = 'last')][~buys.Is_Loyalty])/len(buys[~buys.Is_Loyalty]) * 100\n",
    "print('~{} % of transactions in the loyalty transactions were in the credit card transactions'.format(round(onlyLoyalty,3)) )\n",
    "print('~{} % of transactions in the credit card transactions were in the loyalty transactions'.format(round(onlyCC,3)) )"
   ]
  },
  {
   "cell_type": "code",
   "execution_count": null,
   "metadata": {},
   "outputs": [],
   "source": [
    "buys.groupby('CurrentEmploymentType')[['price']].agg([np.median, 'mean']).sort_values(('price', 'median'), ascending = False)"
   ]
  },
  {
   "cell_type": "code",
   "execution_count": null,
   "metadata": {},
   "outputs": [],
   "source": [
    "buys.groupby('CurrentEmploymentTitle')[['price']].agg([np.median, 'mean']).sort_values(('price', 'median'), ascending = False)"
   ]
  },
  {
   "cell_type": "code",
   "execution_count": null,
   "metadata": {},
   "outputs": [],
   "source": [
    "buys.groupby(['CurrentEmploymentType','Is_Loyalty'])[['price']].agg([np.median, 'mean'])"
   ]
  },
  {
   "cell_type": "code",
   "execution_count": null,
   "metadata": {},
   "outputs": [],
   "source": [
    "buys.groupby(['CurrentEmploymentTitle','Is_Loyalty'])[['price']].agg([np.median, 'mean'])"
   ]
  },
  {
   "cell_type": "markdown",
   "metadata": {},
   "source": [
    "<div>\n",
    "    <span  style=width:700px;display:inline-block;align:left\">\n",
    "        <a href=\"./EDA.ipynb\"><< Explortory Data Analysis</a>\n",
    "    </span>\n",
    "    <span style=\"width:700px;display:inline-block;\" align=\"right\">\n",
    "        <a href=\"./CleanUp.ipynb\">Data Clean Up>></a>\n",
    "    </span>\n",
    "</div>\n",
    "<div>\n",
    "    <center>\n",
    "        <span style=\"width:250px;display:inline-block\">\n",
    "            <a href=\"../Master.ipynb\">Master Notebook</a>\n",
    "        </span>\n",
    "        <span style=\"width:250px;display:inline-block\">\n",
    "            <a href=\"../README.md\">Table of Contents</a>\n",
    "        </span>\n",
    "    <center>\n",
    "</div>"
   ]
  }
 ],
 "metadata": {
  "interpreter": {
   "hash": "1ef96b760e1a48c5c4fda914d5f95fa3b86b312c8ce241282acda50a269567b2"
  },
  "kernelspec": {
   "display_name": "Python 3.8.13 ('base')",
   "language": "python",
   "name": "python3"
  },
  "language_info": {
   "codemirror_mode": {
    "name": "ipython",
    "version": 3
   },
   "file_extension": ".py",
   "mimetype": "text/x-python",
   "name": "python",
   "nbconvert_exporter": "python",
   "pygments_lexer": "ipython3",
   "version": "3.8.13"
  },
  "orig_nbformat": 4
 },
 "nbformat": 4,
 "nbformat_minor": 2
}
