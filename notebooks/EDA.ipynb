{
 "cells": [
  {
   "cell_type": "markdown",
   "metadata": {},
   "source": [
    "<center style=\"font-size:48px;\">Exploratory Data Analysis</center>"
   ]
  },
  {
   "cell_type": "code",
   "execution_count": null,
   "metadata": {},
   "outputs": [],
   "source": [
    "import pandas as pd\n",
    "import numpy as np\n",
    "import matplotlib.pyplot as plt\n",
    "import seaborn as sns\n",
    "import geopandas as gpd\n",
    "import folium\n",
    "from folium.plugins import HeatMap, HeatMapWithTime, MousePosition\n",
    "import plotly.express as pex\n",
    "\n",
    "cars = pd.read_csv('../Data/car-assignments.csv')\n",
    "cc = pd.read_csv('../Data/cc_data.csv', encoding='cp1252')\n",
    "gps = pd.read_csv('../Data/gps.csv', parse_dates=['Timestamp'])\n",
    "loyalty = pd.read_csv('../Data/loyalty_data.csv', encoding='cp1252')\n",
    "\n",
    "plt.style.use('fivethirtyeight')"
   ]
  },
  {
   "cell_type": "markdown",
   "metadata": {},
   "source": [
    "## Cars"
   ]
  },
  {
   "cell_type": "code",
   "execution_count": null,
   "metadata": {},
   "outputs": [],
   "source": [
    "cars.head()"
   ]
  },
  {
   "cell_type": "code",
   "execution_count": null,
   "metadata": {},
   "outputs": [],
   "source": [
    "cars.info()"
   ]
  },
  {
   "cell_type": "code",
   "execution_count": null,
   "metadata": {},
   "outputs": [],
   "source": [
    "# See if we have any duplicate entries\n",
    "print(\"There are {} duplicate entries for a person\".format(cars[['FirstName', 'LastName']].duplicated().sum()))"
   ]
  },
  {
   "cell_type": "code",
   "execution_count": null,
   "metadata": {},
   "outputs": [],
   "source": [
    "# Find the number of employees for each job type\n",
    "plt.subplots(figsize = (15,10))\n",
    "sns.countplot(x= 'CurrentEmploymentType', data = cars)\n",
    "plt.title('Number of Employees with Job Types')\n",
    "plt.show()\n",
    "cars.groupby('CurrentEmploymentType')['LastName'].agg(['count']).sort_values('count', ascending=False)"
   ]
  },
  {
   "cell_type": "markdown",
   "metadata": {},
   "source": [
    "The Engineering group as the most employees; 13. Executives and IT groups have the least; 5."
   ]
  },
  {
   "cell_type": "code",
   "execution_count": null,
   "metadata": {},
   "outputs": [],
   "source": [
    "# Find the number of employees for each job title\n",
    "plt.subplots(figsize = (15,10))\n",
    "sns.countplot(x= 'CurrentEmploymentTitle', data = cars)\n",
    "plt.title('Number of Employees per Job')\n",
    "plt.xticks(rotation =90)\n",
    "plt.show()\n",
    "cars.groupby('CurrentEmploymentTitle')['LastName'].agg(['count']).sort_values('count', ascending=False)"
   ]
  },
  {
   "cell_type": "markdown",
   "metadata": {},
   "source": [
    "Truck Drivers have the most employees; 9. Most job titles only have one employees."
   ]
  },
  {
   "cell_type": "code",
   "execution_count": null,
   "metadata": {},
   "outputs": [],
   "source": [
    "# Job titles that belong in a job type\n",
    "grouped = cars[['CurrentEmploymentTitle', 'CurrentEmploymentType']].drop_duplicates()\n",
    "plt.subplots(figsize = (15,10))\n",
    "sns.countplot(x= 'CurrentEmploymentType', data = grouped)\n",
    "plt.title('Number of Jobs per Type')\n",
    "plt.show()\n",
    "cars[['CurrentEmploymentTitle', 'CurrentEmploymentType']].groupby('CurrentEmploymentType').agg(['count'])"
   ]
  },
  {
   "cell_type": "markdown",
   "metadata": {},
   "source": [
    "The Engineering group as the most job titles; 6. Facilities have the least; 2."
   ]
  },
  {
   "cell_type": "code",
   "execution_count": null,
   "metadata": {},
   "outputs": [],
   "source": [
    "# Lets see which jobs are grouped into which tyoe\n",
    "for types in cars['CurrentEmploymentType'].unique():\n",
    "    job = cars[cars['CurrentEmploymentType'] == types]['CurrentEmploymentTitle'].unique()\n",
    "    print(\"{} : {}\".format(types, job))"
   ]
  },
  {
   "cell_type": "code",
   "execution_count": null,
   "metadata": {},
   "outputs": [],
   "source": [
    "# Are there any comminatlities to any of the null entries\n",
    "cars[cars['CarID'].isnull()]"
   ]
  },
  {
   "cell_type": "markdown",
   "metadata": {},
   "source": [
    "It looks like all the null entries are for the carID for the nine truck drivers. This makes sence as in the problem statement it says that the truck drivers are not assigned company cars that can be used for personal use."
   ]
  },
  {
   "cell_type": "markdown",
   "metadata": {},
   "source": [
    "## GPS"
   ]
  },
  {
   "cell_type": "code",
   "execution_count": null,
   "metadata": {},
   "outputs": [],
   "source": [
    "gps.head()"
   ]
  },
  {
   "cell_type": "code",
   "execution_count": null,
   "metadata": {},
   "outputs": [],
   "source": [
    "gps.info()"
   ]
  },
  {
   "cell_type": "code",
   "execution_count": null,
   "metadata": {},
   "outputs": [],
   "source": [
    "# Seperate the time units into their own column\n",
    "timeUnit = ['year', 'month', 'day', 'hour', 'minute', 'second']\n",
    "for unit in timeUnit:\n",
    "    if unit == 'year':\n",
    "        gps[unit] = gps['Timestamp'].apply(lambda x: x.year)\n",
    "    if unit == 'month':\n",
    "        gps[unit] = gps['Timestamp'].apply(lambda x: x.month)\n",
    "    if unit == 'day':\n",
    "        gps[unit] = gps['Timestamp'].apply(lambda x: x.day)\n",
    "    if unit == 'hour':\n",
    "        gps[unit] = gps['Timestamp'].apply(lambda x: x.hour)\n",
    "    if unit == 'minute':\n",
    "        gps[unit] = gps['Timestamp'].apply(lambda x: x.minute)\n",
    "    if unit == 'second':\n",
    "        gps[unit] = gps['Timestamp'].apply(lambda x: x.second)\n",
    "gps.head()"
   ]
  },
  {
   "cell_type": "code",
   "execution_count": null,
   "metadata": {},
   "outputs": [],
   "source": [
    "gps.describe()"
   ]
  },
  {
   "cell_type": "markdown",
   "metadata": {},
   "source": [
    "The year and month are contstants! They only contain the values 2014 and 1 respectively. "
   ]
  },
  {
   "cell_type": "code",
   "execution_count": null,
   "metadata": {},
   "outputs": [],
   "source": [
    "# Get the deviations for each car from the median and mean longitude, latitude, and hour\n",
    "meanLat= gps['lat'].mean()\n",
    "medianLat= gps['lat'].median()\n",
    "meanLong= gps['long'].mean()\n",
    "medianLong= gps['long'].median()\n",
    "meanHour= gps['hour'].mean()\n",
    "medianHour= gps['hour'].median()\n",
    "\n",
    "st = pd.DataFrame()\n",
    "st['Mean_Lat'] = abs(gps.groupby('id')[['lat']].agg('mean').sub(meanLat))\n",
    "st['Median_Lat'] = abs(gps.groupby('id')[['lat']].agg('mean').sub(medianLat))\n",
    "st['Mean_Long'] = abs(gps.groupby('id')[['long']].agg('mean').sub(meanLong))\n",
    "st['Median_Long'] = abs(gps.groupby('id')[['long']].agg('mean').sub(medianLong))\n",
    "st['Mean_Hour'] = abs(gps.groupby('id')[['hour']].agg('mean').sub(meanHour))\n",
    "st['Median_Hour'] = abs(gps.groupby('id')[['hour']].agg('mean').sub(medianHour))\n",
    "st.style.background_gradient(cmap=\"winter\", axis =0)"
   ]
  },
  {
   "cell_type": "markdown",
   "metadata": {},
   "source": [
    "Car 104 seems to deviate from the average alot.  104 is a truck used by the truck drivers"
   ]
  },
  {
   "cell_type": "code",
   "execution_count": null,
   "metadata": {},
   "outputs": [],
   "source": [
    "# Correlations\n",
    "fig, ax = plt.subplots(1, figsize=(15,10))\n",
    "sns.heatmap(gps.corr(), vmin=-1, vmax= 1, annot=True, mask = np.triu(np.ones_like(gps.corr())))\n"
   ]
  },
  {
   "cell_type": "markdown",
   "metadata": {},
   "source": [
    "Nothing looks highly correlated. Year and Month are whited out since they are constants."
   ]
  },
  {
   "cell_type": "code",
   "execution_count": null,
   "metadata": {},
   "outputs": [],
   "source": [
    "fig = pex.violin(gps, x= 'long', box= True, title='Longitude Distribution')\n",
    "fig.show()"
   ]
  },
  {
   "cell_type": "code",
   "execution_count": null,
   "metadata": {},
   "outputs": [],
   "source": [
    "fig = pex.violin(gps, x= 'lat', box= True, title='Latitude Distribution')\n",
    "fig.show()"
   ]
  },
  {
   "cell_type": "code",
   "execution_count": null,
   "metadata": {},
   "outputs": [],
   "source": [
    "# Where are cars located over the entire dataset\n",
    "m = folium.Map(location=[medianLat+.01, medianLong], zoom_start=14)\n",
    "kronos = gpd.read_file('../Geospatial/Kronos_Island.shp')\n",
    "folium.features.GeoJson(kronos,  style_function= lambda feature: {'fillColor' : 'black'}).add_to(m)\n",
    "abila = gpd.read_file('../Geospatial/Abila.shp')\n",
    "folium.features.GeoJson(abila, style_function= lambda feature: {'color' : 'white'}).add_to(m)\n",
    "HeatMap(gps[['lat', 'long']], radius =20).add_to(m)\n",
    "fmtr = \"function(num) {return L.Util.formatNum(num, 3) + ' º ';};\"\n",
    "MousePosition(position='topleft', separator=' | ', prefix=\"Mouse:\",\n",
    "              lat_formatter=fmtr, lng_formatter=fmtr).add_to(m)\n",
    "m"
   ]
  },
  {
   "cell_type": "code",
   "execution_count": null,
   "metadata": {},
   "outputs": [],
   "source": [
    "# Lets know look at the location heatmap segmented by hour\n",
    "weights, index = [], []\n",
    "\n",
    "for hour in sorted(gps.hour.unique()):\n",
    "        weights.append(gps[gps.hour == hour][['lat', 'long']].groupby(['lat', 'long']).count().reset_index().values.tolist())\n",
    "        index.append(pd.to_datetime(hour, format='%H').strftime('%I %p'))\n",
    "[[ x.append(0.1) for x in y] for y in weights]\n",
    "m = folium.Map(location=[medianLat+.01, medianLong], zoom_start=14)\n",
    "kronos = gpd.read_file('../Geospatial/Kronos_Island.shp')\n",
    "folium.features.GeoJson(kronos,  style_function= lambda feature: {'fillColor' : 'black'}).add_to(m)\n",
    "abila = gpd.read_file('../Geospatial/Abila.shp')\n",
    "folium.features.GeoJson(abila, style_function= lambda feature: {'color' : 'white'}).add_to(m)\n",
    "HeatMapWithTime(weights, index = index).add_to(m)\n",
    "MousePosition(position='topleft', separator=' | ', prefix=\"Mouse:\",\n",
    "              lat_formatter=fmtr, lng_formatter=fmtr).add_to(m)\n",
    "m"
   ]
  },
  {
   "cell_type": "code",
   "execution_count": null,
   "metadata": {},
   "outputs": [],
   "source": [
    "gps.head()\n",
    "gps[['lat', 'long', 'Timestamp']].resample(rule='15Min', on='Timestamp')"
   ]
  },
  {
   "cell_type": "markdown",
   "metadata": {},
   "source": [
    "## Credit Cards"
   ]
  },
  {
   "cell_type": "code",
   "execution_count": null,
   "metadata": {},
   "outputs": [],
   "source": [
    "cc.head()"
   ]
  },
  {
   "cell_type": "code",
   "execution_count": null,
   "metadata": {},
   "outputs": [],
   "source": [
    "cc.info()"
   ]
  },
  {
   "cell_type": "code",
   "execution_count": null,
   "metadata": {},
   "outputs": [],
   "source": [
    "cc.describe()"
   ]
  },
  {
   "cell_type": "code",
   "execution_count": null,
   "metadata": {},
   "outputs": [],
   "source": [
    "# Lets look at the frequency of visits for each location\n",
    "locs = cc.groupby('location')[['timestamp']].agg('count').sort_values('timestamp', ascending=False)\n",
    "locs.columns = ['Count']\n",
    "locs"
   ]
  },
  {
   "cell_type": "markdown",
   "metadata": {},
   "source": [
    "Food places look popular. There are a few locations with few visits. "
   ]
  },
  {
   "cell_type": "code",
   "execution_count": null,
   "metadata": {},
   "outputs": [],
   "source": [
    "fig = pex.violin(cc, x='price', box=True, points='all', hover_data=cc.columns, title='Credit Card Spending Distribution')\n",
    "fig.show()\n",
    "cc.groupby('location')['price'].agg(['mean', 'median']).sort_values('mean', ascending=False)"
   ]
  },
  {
   "cell_type": "markdown",
   "metadata": {},
   "source": [
    "Most prices are under $200. We do have some places that tend to charge a lot, such as the airport. From the plot it looks like we have outliers"
   ]
  },
  {
   "cell_type": "markdown",
   "metadata": {},
   "source": [
    "## Loyalty Data"
   ]
  },
  {
   "cell_type": "code",
   "execution_count": null,
   "metadata": {},
   "outputs": [],
   "source": [
    "loyalty.head()"
   ]
  },
  {
   "cell_type": "code",
   "execution_count": null,
   "metadata": {},
   "outputs": [],
   "source": [
    "loyalty.info()"
   ]
  },
  {
   "cell_type": "code",
   "execution_count": null,
   "metadata": {},
   "outputs": [],
   "source": [
    "loyalty.describe()"
   ]
  },
  {
   "cell_type": "code",
   "execution_count": null,
   "metadata": {},
   "outputs": [],
   "source": [
    "# Lets look at the frequency of visits for each location\n",
    "locsLoyalty = loyalty.groupby('location')[['timestamp']].agg('count').sort_values('timestamp', ascending=False)\n",
    "locsLoyalty.columns = ['Count']\n",
    "locsLoyalty"
   ]
  },
  {
   "cell_type": "markdown",
   "metadata": {},
   "source": [
    "There is similar ordering with slightly lower frequency."
   ]
  },
  {
   "cell_type": "code",
   "execution_count": null,
   "metadata": {},
   "outputs": [],
   "source": [
    "fig = pex.violin(loyalty, x='price', box=True, points='all', hover_data=cc.columns, title='Loyalty Card Spending Distribution')\n",
    "fig.show()\n",
    "loyalty.groupby('location')['price'].agg(['mean', 'median']).sort_values('mean', ascending=False)"
   ]
  },
  {
   "cell_type": "markdown",
   "metadata": {},
   "source": [
    "Same story as the credit cards prices. Prices do seem much lower with loyalty cards though"
   ]
  },
  {
   "cell_type": "code",
   "execution_count": null,
   "metadata": {},
   "outputs": [],
   "source": [
    "# Lets see if there are any locations that are only in one dataframe\n",
    "uniqueCC = set(cc['location']).difference(set(loyalty['location']))\n",
    "print('Unique locations in the credit card dataframe : {}'.format(uniqueCC))\n",
    "uniqueLoyalty = set(loyalty['location']).difference(set(cc['location']))\n",
    "print('Unique locations in the loyalty dataframe : {}'.format(uniqueLoyalty))"
   ]
  },
  {
   "cell_type": "markdown",
   "metadata": {},
   "source": [
    "<div>\n",
    "    <span  style=\"width:600px;display:inline-block;text-align:left\">\n",
    "        <a href=\"./ReadIn.ipynb\">&#60;&#60;Reading the Data</a>\n",
    "    </span>\n",
    "    <span style=\"width:600px;display:inline-block;text-align:right\">\n",
    "        <a href=\"./FurtherEDA.ipynb\">Further Exploratory Data Analysis&#62;&#62;</a>\n",
    "    </span>\n",
    "</div>\n",
    "<div>\n",
    "    <center>\n",
    "        <span style=\"width:200px;display:inline-block;text-align:center\">\n",
    "            <a href=\"./Master.ipynb\">Master Notebook</a>\n",
    "        </span>\n",
    "        <span style=\"width:200px;display:inline-block;text-align:center\">\n",
    "            <a href=\"../README.md\">Table of Contents</a>\n",
    "        </span>\n",
    "    </center>\n",
    "</div>"
   ]
  }
 ],
 "metadata": {
  "interpreter": {
   "hash": "1ef96b760e1a48c5c4fda914d5f95fa3b86b312c8ce241282acda50a269567b2"
  },
  "kernelspec": {
   "display_name": "Python 3 (ipykernel)",
   "language": "python",
   "name": "python3"
  },
  "language_info": {
   "codemirror_mode": {
    "name": "ipython",
    "version": 3
   },
   "file_extension": ".py",
   "mimetype": "text/x-python",
   "name": "python",
   "nbconvert_exporter": "python",
   "pygments_lexer": "ipython3",
   "version": "3.8.13"
  }
 },
 "nbformat": 4,
 "nbformat_minor": 4
}
