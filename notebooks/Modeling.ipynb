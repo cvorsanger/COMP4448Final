{
 "cells": [
  {
   "cell_type": "markdown",
   "metadata": {},
   "source": [
    "<center style=\"font-size:48px;\">Modeling</center>"
   ]
  },
  {
   "cell_type": "code",
   "execution_count": null,
   "metadata": {},
   "outputs": [],
   "source": [
    "import pandas as pd\n",
    "from sklearn.preprocessing import OneHotEncoder\n",
    "from sklearn.pipeline import Pipeline\n",
    "from sklearn.compose import ColumnTransformer\n",
    "from sklearn.ensemble import IsolationForest\n",
    "\n",
    "locations = pd.read_csv('../CheckPoints/Locations_Clean.csv', parse_dates=['Timestamp'], index_col=0)\n",
    "locations.head()"
   ]
  },
  {
   "cell_type": "code",
   "execution_count": 21,
   "metadata": {},
   "outputs": [],
   "source": [
    "preprocessor = ColumnTransformer(\n",
    "    [\n",
    "        ( 'dropper', 'drop', ['Timestamp'] ),\n",
    "        ('encoder', OneHotEncoder(), ['LastName', 'FirstName', 'CurrentEmploymentType', 'CurrentEmploymentTitle'])\n",
    "    ],\n",
    "    remainder='passthrough'\n",
    ")\n",
    "\n",
    "pipe = Pipeline(\n",
    "    [\n",
    "        ('preprocessor', preprocessor),\n",
    "        ('model', IsolationForest())\n",
    "    ]\n",
    ")"
   ]
  },
  {
   "cell_type": "code",
   "execution_count": 22,
   "metadata": {},
   "outputs": [],
   "source": [
    "preds = pipe.fit_predict(locations)"
   ]
  },
  {
   "cell_type": "code",
   "execution_count": 23,
   "metadata": {},
   "outputs": [
    {
     "data": {
      "text/plain": [
       "array([1])"
      ]
     },
     "execution_count": 23,
     "metadata": {},
     "output_type": "execute_result"
    }
   ],
   "source": [
    "pd.DataFrame(preds)[0].unique()"
   ]
  },
  {
   "cell_type": "code",
   "execution_count": 26,
   "metadata": {},
   "outputs": [
    {
     "data": {
      "text/html": [
       "<div>\n",
       "<style scoped>\n",
       "    .dataframe tbody tr th:only-of-type {\n",
       "        vertical-align: middle;\n",
       "    }\n",
       "\n",
       "    .dataframe tbody tr th {\n",
       "        vertical-align: top;\n",
       "    }\n",
       "\n",
       "    .dataframe thead th {\n",
       "        text-align: right;\n",
       "    }\n",
       "</style>\n",
       "<table border=\"1\" class=\"dataframe\">\n",
       "  <thead>\n",
       "    <tr style=\"text-align: right;\">\n",
       "      <th></th>\n",
       "      <th>timestamp</th>\n",
       "      <th>location</th>\n",
       "      <th>price</th>\n",
       "      <th>FirstName</th>\n",
       "      <th>LastName</th>\n",
       "      <th>Is_Loyalty</th>\n",
       "      <th>day</th>\n",
       "      <th>hour</th>\n",
       "      <th>minute</th>\n",
       "      <th>second</th>\n",
       "      <th>cents</th>\n",
       "      <th>CarID</th>\n",
       "      <th>CurrentEmploymentType</th>\n",
       "      <th>CurrentEmploymentTitle</th>\n",
       "    </tr>\n",
       "  </thead>\n",
       "  <tbody>\n",
       "    <tr>\n",
       "      <th>0</th>\n",
       "      <td>2014-01-06 07:28:00</td>\n",
       "      <td>Brew've Been Served</td>\n",
       "      <td>11.34</td>\n",
       "      <td>Edvard</td>\n",
       "      <td>Vann</td>\n",
       "      <td>True</td>\n",
       "      <td>6</td>\n",
       "      <td>7</td>\n",
       "      <td>28</td>\n",
       "      <td>0</td>\n",
       "      <td>34.0</td>\n",
       "      <td>34.0</td>\n",
       "      <td>Security</td>\n",
       "      <td>Perimeter Control</td>\n",
       "    </tr>\n",
       "    <tr>\n",
       "      <th>1</th>\n",
       "      <td>2014-01-06 07:34:00</td>\n",
       "      <td>Hallowed Grounds</td>\n",
       "      <td>12.22</td>\n",
       "      <td>Hideki</td>\n",
       "      <td>Cocinaro</td>\n",
       "      <td>True</td>\n",
       "      <td>6</td>\n",
       "      <td>7</td>\n",
       "      <td>34</td>\n",
       "      <td>0</td>\n",
       "      <td>22.0</td>\n",
       "      <td>12.0</td>\n",
       "      <td>Security</td>\n",
       "      <td>Site Control</td>\n",
       "    </tr>\n",
       "    <tr>\n",
       "      <th>2</th>\n",
       "      <td>2014-01-06 07:35:00</td>\n",
       "      <td>Brew've Been Served</td>\n",
       "      <td>8.33</td>\n",
       "      <td>Stenig</td>\n",
       "      <td>Fusil</td>\n",
       "      <td>True</td>\n",
       "      <td>6</td>\n",
       "      <td>7</td>\n",
       "      <td>35</td>\n",
       "      <td>0</td>\n",
       "      <td>33.0</td>\n",
       "      <td>20.0</td>\n",
       "      <td>Security</td>\n",
       "      <td>Building Control</td>\n",
       "    </tr>\n",
       "    <tr>\n",
       "      <th>3</th>\n",
       "      <td>2014-01-06 07:36:00</td>\n",
       "      <td>Hallowed Grounds</td>\n",
       "      <td>16.72</td>\n",
       "      <td>Birgitta</td>\n",
       "      <td>Frente</td>\n",
       "      <td>True</td>\n",
       "      <td>6</td>\n",
       "      <td>7</td>\n",
       "      <td>36</td>\n",
       "      <td>0</td>\n",
       "      <td>72.0</td>\n",
       "      <td>18.0</td>\n",
       "      <td>Engineering</td>\n",
       "      <td>Geologist</td>\n",
       "    </tr>\n",
       "    <tr>\n",
       "      <th>4</th>\n",
       "      <td>2014-01-06 07:37:00</td>\n",
       "      <td>Brew've Been Served</td>\n",
       "      <td>4.24</td>\n",
       "      <td>Sven</td>\n",
       "      <td>Flecha</td>\n",
       "      <td>True</td>\n",
       "      <td>6</td>\n",
       "      <td>7</td>\n",
       "      <td>37</td>\n",
       "      <td>0</td>\n",
       "      <td>24.0</td>\n",
       "      <td>17.0</td>\n",
       "      <td>Information Technology</td>\n",
       "      <td>IT Technician</td>\n",
       "    </tr>\n",
       "  </tbody>\n",
       "</table>\n",
       "</div>"
      ],
      "text/plain": [
       "            timestamp             location  price FirstName  LastName  \\\n",
       "0 2014-01-06 07:28:00  Brew've Been Served  11.34    Edvard      Vann   \n",
       "1 2014-01-06 07:34:00     Hallowed Grounds  12.22    Hideki  Cocinaro   \n",
       "2 2014-01-06 07:35:00  Brew've Been Served   8.33    Stenig     Fusil   \n",
       "3 2014-01-06 07:36:00     Hallowed Grounds  16.72  Birgitta    Frente   \n",
       "4 2014-01-06 07:37:00  Brew've Been Served   4.24      Sven    Flecha   \n",
       "\n",
       "   Is_Loyalty  day  hour  minute  second  cents  CarID  \\\n",
       "0        True    6     7      28       0   34.0   34.0   \n",
       "1        True    6     7      34       0   22.0   12.0   \n",
       "2        True    6     7      35       0   33.0   20.0   \n",
       "3        True    6     7      36       0   72.0   18.0   \n",
       "4        True    6     7      37       0   24.0   17.0   \n",
       "\n",
       "    CurrentEmploymentType CurrentEmploymentTitle  \n",
       "0                Security      Perimeter Control  \n",
       "1                Security           Site Control  \n",
       "2                Security       Building Control  \n",
       "3             Engineering              Geologist  \n",
       "4  Information Technology          IT Technician  "
      ]
     },
     "execution_count": 26,
     "metadata": {},
     "output_type": "execute_result"
    }
   ],
   "source": [
    "buys = pd.read_csv('../CheckPoints/Buys_Clean.csv', parse_dates=['timestamp'], index_col=0)\n",
    "buys.head()"
   ]
  },
  {
   "cell_type": "code",
   "execution_count": 30,
   "metadata": {},
   "outputs": [
    {
     "data": {
      "text/plain": [
       "array([1])"
      ]
     },
     "execution_count": 30,
     "metadata": {},
     "output_type": "execute_result"
    }
   ],
   "source": [
    "preprocessor = ColumnTransformer(\n",
    "    [\n",
    "        ( 'dropper', 'drop', ['timestamp', 'cents', 'CarID'] ),\n",
    "        ('encoder', OneHotEncoder(), ['location', 'LastName', 'FirstName', 'CurrentEmploymentType', 'CurrentEmploymentTitle'])\n",
    "    ],\n",
    "    remainder='passthrough'\n",
    ")\n",
    "\n",
    "pipe = Pipeline(\n",
    "    [\n",
    "        ('preprocessor', preprocessor),\n",
    "        ('model', IsolationForest())\n",
    "    ]\n",
    ")\n",
    "\n",
    "preds = pipe.fit_predict(buys)\n",
    "pd.DataFrame(preds)[0].unique()"
   ]
  },
  {
   "cell_type": "markdown",
   "metadata": {},
   "source": [
    "<div>\n",
    "    <span  style=\"width:600px;display:inline-block;text-align:left\">\n",
    "        <a href=\"./CleanUp.ipynb\">&#60;&#60;Data Cleanup</a>\n",
    "    </span>\n",
    "    <span style=\"width:600px;display:inline-block;text-align:right\">\n",
    "        <a href=\"./ObservationsQ1.ipynb\">Observations Question 1&#62;&#62;</a>\n",
    "    </span>\n",
    "</div>\n",
    "<div>\n",
    "    <center>\n",
    "        <span style=\"width:200px;display:inline-block;text-align:center\">\n",
    "            <a href=\"./Master.ipynb\">Master Notebook</a>\n",
    "        </span>\n",
    "        <span style=\"width:200px;display:inline-block;text-align:center\">\n",
    "            <a href=\"../README.md\">Table of Contents</a>\n",
    "        </span>\n",
    "    </center>\n",
    "</div>"
   ]
  }
 ],
 "metadata": {
  "interpreter": {
   "hash": "1ef96b760e1a48c5c4fda914d5f95fa3b86b312c8ce241282acda50a269567b2"
  },
  "kernelspec": {
   "display_name": "Python 3 (ipykernel)",
   "language": "python",
   "name": "python3"
  },
  "language_info": {
   "codemirror_mode": {
    "name": "ipython",
    "version": 3
   },
   "file_extension": ".py",
   "mimetype": "text/x-python",
   "name": "python",
   "nbconvert_exporter": "python",
   "pygments_lexer": "ipython3",
   "version": "3.8.13"
  }
 },
 "nbformat": 4,
 "nbformat_minor": 4
}
